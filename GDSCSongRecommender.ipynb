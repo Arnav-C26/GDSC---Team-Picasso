{
 "cells": [
  {
   "cell_type": "code",
   "execution_count": 513,
   "id": "d0f6c464",
   "metadata": {},
   "outputs": [],
   "source": [
    "import pandas as pd\n",
    "from sklearn.neighbors import NearestNeighbors #implement K-Nearest Neighbors for regression"
   ]
  },
  {
   "cell_type": "code",
   "execution_count": 514,
   "id": "3ad838ef",
   "metadata": {},
   "outputs": [],
   "source": [
    "df_history = pd.read_csv(\"spotify2023data.csv\", encoding=\"utf-16\") \n",
    "#load the first data set; we assume this represents the listening history of the user"
   ]
  },
  {
   "cell_type": "code",
   "execution_count": 515,
   "id": "95879d8c",
   "metadata": {},
   "outputs": [
    {
     "data": {
      "text/plain": [
       "track_name               0\n",
       "artist(s)_name           0\n",
       "artist_count             0\n",
       "released_year            0\n",
       "released_month           0\n",
       "released_day             0\n",
       "in_spotify_playlists     0\n",
       "in_spotify_charts        0\n",
       "streams                  0\n",
       "in_apple_playlists       0\n",
       "in_apple_charts          0\n",
       "in_deezer_playlists      0\n",
       "in_deezer_charts         0\n",
       "in_shazam_charts        50\n",
       "bpm                      0\n",
       "key                     95\n",
       "mode                     0\n",
       "danceability_%           0\n",
       "valence_%                0\n",
       "energy_%                 0\n",
       "acousticness_%           0\n",
       "instrumentalness_%       0\n",
       "liveness_%               0\n",
       "speechiness_%            0\n",
       "dtype: int64"
      ]
     },
     "execution_count": 515,
     "metadata": {},
     "output_type": "execute_result"
    }
   ],
   "source": [
    "df_history.isnull().sum() #check for null values"
   ]
  },
  {
   "cell_type": "code",
   "execution_count": 516,
   "id": "909727a9",
   "metadata": {},
   "outputs": [],
   "source": [
    "df_history = df_history.dropna() #drop all null values in the dataframe"
   ]
  },
  {
   "cell_type": "code",
   "execution_count": 517,
   "id": "c9c99b72",
   "metadata": {},
   "outputs": [
    {
     "data": {
      "text/html": [
       "<div>\n",
       "<style scoped>\n",
       "    .dataframe tbody tr th:only-of-type {\n",
       "        vertical-align: middle;\n",
       "    }\n",
       "\n",
       "    .dataframe tbody tr th {\n",
       "        vertical-align: top;\n",
       "    }\n",
       "\n",
       "    .dataframe thead th {\n",
       "        text-align: right;\n",
       "    }\n",
       "</style>\n",
       "<table border=\"1\" class=\"dataframe\">\n",
       "  <thead>\n",
       "    <tr style=\"text-align: right;\">\n",
       "      <th></th>\n",
       "      <th>track_name</th>\n",
       "      <th>danceability_%</th>\n",
       "      <th>valence_%</th>\n",
       "      <th>energy_%</th>\n",
       "      <th>acousticness_%</th>\n",
       "      <th>instrumentalness_%</th>\n",
       "      <th>liveness_%</th>\n",
       "      <th>speechiness_%</th>\n",
       "    </tr>\n",
       "  </thead>\n",
       "  <tbody>\n",
       "    <tr>\n",
       "      <th>0</th>\n",
       "      <td>Seven (feat. Latto) (Explicit Ver.)</td>\n",
       "      <td>80</td>\n",
       "      <td>89</td>\n",
       "      <td>83</td>\n",
       "      <td>31</td>\n",
       "      <td>0</td>\n",
       "      <td>8</td>\n",
       "      <td>4</td>\n",
       "    </tr>\n",
       "    <tr>\n",
       "      <th>1</th>\n",
       "      <td>LALA</td>\n",
       "      <td>71</td>\n",
       "      <td>61</td>\n",
       "      <td>74</td>\n",
       "      <td>7</td>\n",
       "      <td>0</td>\n",
       "      <td>10</td>\n",
       "      <td>4</td>\n",
       "    </tr>\n",
       "    <tr>\n",
       "      <th>2</th>\n",
       "      <td>vampire</td>\n",
       "      <td>51</td>\n",
       "      <td>32</td>\n",
       "      <td>53</td>\n",
       "      <td>17</td>\n",
       "      <td>0</td>\n",
       "      <td>31</td>\n",
       "      <td>6</td>\n",
       "    </tr>\n",
       "    <tr>\n",
       "      <th>3</th>\n",
       "      <td>Cruel Summer</td>\n",
       "      <td>55</td>\n",
       "      <td>58</td>\n",
       "      <td>72</td>\n",
       "      <td>11</td>\n",
       "      <td>0</td>\n",
       "      <td>11</td>\n",
       "      <td>15</td>\n",
       "    </tr>\n",
       "    <tr>\n",
       "      <th>4</th>\n",
       "      <td>WHERE SHE GOES</td>\n",
       "      <td>65</td>\n",
       "      <td>23</td>\n",
       "      <td>80</td>\n",
       "      <td>14</td>\n",
       "      <td>63</td>\n",
       "      <td>11</td>\n",
       "      <td>6</td>\n",
       "    </tr>\n",
       "  </tbody>\n",
       "</table>\n",
       "</div>"
      ],
      "text/plain": [
       "                            track_name  danceability_%  valence_%  energy_%  \\\n",
       "0  Seven (feat. Latto) (Explicit Ver.)              80         89        83   \n",
       "1                                 LALA              71         61        74   \n",
       "2                              vampire              51         32        53   \n",
       "3                         Cruel Summer              55         58        72   \n",
       "4                       WHERE SHE GOES              65         23        80   \n",
       "\n",
       "   acousticness_%  instrumentalness_%  liveness_%  speechiness_%  \n",
       "0              31                   0           8              4  \n",
       "1               7                   0          10              4  \n",
       "2              17                   0          31              6  \n",
       "3              11                   0          11             15  \n",
       "4              14                  63          11              6  "
      ]
     },
     "execution_count": 517,
     "metadata": {},
     "output_type": "execute_result"
    }
   ],
   "source": [
    "df_history.shape #get the dimensions of the dataframe\n",
    "df_history = df_history.drop(['artist(s)_name', 'artist_count', 'released_year', 'released_month', 'released_day', 'in_spotify_playlists', 'in_spotify_charts', 'streams', 'in_apple_playlists', 'in_apple_charts', 'in_deezer_playlists', 'in_deezer_charts', 'in_shazam_charts', 'bpm', 'key', 'mode'], axis=1)\n",
    "df_history.head(5)"
   ]
  },
  {
   "cell_type": "code",
   "execution_count": 518,
   "id": "a93908a6",
   "metadata": {},
   "outputs": [
    {
     "name": "stdout",
     "output_type": "stream",
     "text": [
      "Index(['track_name', 'danceability', 'valence', 'energy', 'acousticness',\n",
      "       'instrumentalness', 'liveness', 'speechiness'],\n",
      "      dtype='object')\n"
     ]
    }
   ],
   "source": [
    "#a lot of the columns have \"%\" at the end of them, so let's rename the columns to get rid of the \"%\"s\n",
    "df_history.columns = ['track_name', 'danceability', 'valence', 'energy', 'acousticness', 'instrumentalness', 'liveness', 'speechiness']\n",
    "print(df_history.columns)"
   ]
  },
  {
   "cell_type": "code",
   "execution_count": 519,
   "id": "edd96556",
   "metadata": {},
   "outputs": [],
   "source": [
    "#now, let's load the second dataset, the data that allows us to recommend songs to the user \n",
    "df_recommend = pd.read_csv(\"song-recommend.csv\")"
   ]
  },
  {
   "cell_type": "code",
   "execution_count": 520,
   "id": "89b7a28b",
   "metadata": {},
   "outputs": [
    {
     "data": {
      "text/plain": [
       "Unnamed: 0          0\n",
       "track_id            0\n",
       "artists             1\n",
       "album_name          1\n",
       "track_name          1\n",
       "popularity          0\n",
       "duration_ms         0\n",
       "explicit            0\n",
       "danceability        0\n",
       "energy              0\n",
       "key                 0\n",
       "loudness            0\n",
       "mode                0\n",
       "speechiness         0\n",
       "acousticness        0\n",
       "instrumentalness    0\n",
       "liveness            0\n",
       "valence             0\n",
       "tempo               0\n",
       "time_signature      0\n",
       "track_genre         0\n",
       "dtype: int64"
      ]
     },
     "execution_count": 520,
     "metadata": {},
     "output_type": "execute_result"
    }
   ],
   "source": [
    "df_recommend.isnull().sum() #check for null values"
   ]
  },
  {
   "cell_type": "code",
   "execution_count": 521,
   "id": "054d343c",
   "metadata": {},
   "outputs": [],
   "source": [
    "df_recommend = df_recommend.dropna()"
   ]
  },
  {
   "cell_type": "code",
   "execution_count": 522,
   "id": "a9be005d",
   "metadata": {},
   "outputs": [
    {
     "data": {
      "text/plain": [
       "(113999, 21)"
      ]
     },
     "execution_count": 522,
     "metadata": {},
     "output_type": "execute_result"
    }
   ],
   "source": [
    "df_recommend.shape #get the dimensions of the second dataset"
   ]
  },
  {
   "cell_type": "code",
   "execution_count": 523,
   "id": "4f6a553c",
   "metadata": {},
   "outputs": [],
   "source": [
    "#given our history dataset and our recommender dataset, let's look at the different variables that we may consider\n",
    "#when recommending songs\n",
    "\n",
    "#the two datasets have 7 columns in common that serve as good varables (these are the features/input): \n",
    "#danceability, valence, speechiness, acousticness, liveness, instrumentalness, and energy\n",
    "\n",
    "#track name and artist name are the labels/output"
   ]
  },
  {
   "cell_type": "code",
   "execution_count": 524,
   "id": "42966a49",
   "metadata": {},
   "outputs": [],
   "source": [
    "#we have 7 total features\n",
    "#Basic Idea of our Product: An advanced song recommendation system that allows users to get song recommendations \n",
    "#based on the most important song aspect to them (the 7 features). This is an imbalanced classification model. \n",
    "\n",
    "#define the features of the history dataset\n",
    "features_df_history = ['track_name', 'danceability', 'instrumentalness', 'valence', 'speechiness', 'acousticness', 'liveness', 'energy'] \n",
    "#define the features of the recommendation dataset\n",
    "features_df_recommend = ['danceability', 'instrumentalness', 'valence', 'speechiness', 'acousticness', 'liveness', 'energy']\n",
    "\n",
    "#the features of the history dataset are in percentages while they're given as decimals in the recommendation data.\n",
    "#Here, we convert the data points of the history dataset to decimal values.\n",
    "for feature in features_df_history[1:]:\n",
    "    df_history[feature] /= 100"
   ]
  },
  {
   "cell_type": "code",
   "execution_count": 525,
   "id": "b5089e6a",
   "metadata": {},
   "outputs": [],
   "source": [
    "#this function uses the history dataset to create a KNN model using the user's inputed primary feature and weightage\n",
    "def weightage_train(primary_feature, primary_weight, data, n_neighbors):\n",
    "    # Exclude 'Song Name' from the list of features\n",
    "    features_to_use = [feature for feature in features_df_history[1:] if feature != 'track_name']\n",
    "    \n",
    "    other_features = [feature for feature in features_to_use if feature != primary_feature]\n",
    "    weights = [primary_weight] + [(1 - primary_weight) / len(other_features)] * len(other_features)\n",
    "    weighted_features = [weight * df_history[feature] for weight, feature in zip(weights, [primary_feature] + other_features)]\n",
    "    X = pd.concat(weighted_features, axis=1)\n",
    "    model = NearestNeighbors(n_neighbors = n_neighbors, algorithm='auto') #come back to this\n",
    "    model.fit(X)\n",
    "    return model"
   ]
  },
  {
   "cell_type": "code",
   "execution_count": 526,
   "id": "e08da896",
   "metadata": {},
   "outputs": [],
   "source": [
    "def get_song_features(song_name):\n",
    "    return df_history.loc[df_history['track_name'] == song_name, features_df_history[1:]].values.flatten().tolist()"
   ]
  },
  {
   "cell_type": "code",
   "execution_count": 527,
   "id": "2d0a419f",
   "metadata": {},
   "outputs": [],
   "source": [
    "#this function recommends songs based on the customized metrics (primary feature and weightage) that the user \n",
    "#has inputed\n",
    "def weightage_recommend(song_name, primary_feature, primary_weight, rec_count, n_neighbors):\n",
    "    song_features = []\n",
    "    song_features = get_song_features(song_name)\n",
    "    model = weightage_train(primary_feature, primary_weight, df_history, n_neighbors)\n",
    "    distances, indices = model.kneighbors([song_features])\n",
    "    similar_songs = df_recommend.iloc[indices[0]][:rec_count] #this is the list of similar songs given\n",
    "    #the number of songs to be recommended to the user\n",
    "    return similar_songs[['track_name', 'artists', 'album_name']]"
   ]
  },
  {
   "cell_type": "code",
   "execution_count": 528,
   "id": "c5e1fd79",
   "metadata": {
    "scrolled": false
   },
   "outputs": [
    {
     "name": "stdout",
     "output_type": "stream",
     "text": [
      "                                 track_name                  artists  \\\n",
      "276                              Headphones               Jon Bryant   \n",
      "526                      vs.2013 ~知覚と快楽の螺旋~        Masaharu Fukuyama   \n",
      "23                         93 Million Miles               Jason Mraz   \n",
      "779                        King of Anything           Sara Bareilles   \n",
      "141                   Make You Feel My Love                JJ Heller   \n",
      "434  Have Yourself a Merry Little Christmas            Tres Hermanas   \n",
      "716                           See You Again  Boyce Avenue;Bea Miller   \n",
      "\n",
      "                                 album_name  \n",
      "276                              Headphones  \n",
      "526                      vs.2013 ~知覚と快楽の螺旋~  \n",
      "23                            Coffee Moment  \n",
      "779                      Kaleidoscope Heart  \n",
      "141                    I Dream of You: CALM  \n",
      "434  Have Yourself a Merry Little Christmas  \n",
      "716                  Cover Sessions, Vol. 4  \n"
     ]
    },
    {
     "name": "stderr",
     "output_type": "stream",
     "text": [
      "/Users/arnav_a_cherukuthota/anaconda3/lib/python3.11/site-packages/sklearn/base.py:464: UserWarning: X does not have valid feature names, but NearestNeighbors was fitted with feature names\n",
      "  warnings.warn(\n"
     ]
    }
   ],
   "source": [
    "#song_features = [0.5, 0.3, 0.8, 0.2, 0.7, 0.6, 0.06]  #features of the song you want to find similar songs for\n",
    "\n",
    "user_song_name = \"vampire\"  #user's input song that will be used to find similar songs\n",
    "user_primary_feature = \"liveness\"  #user's chosen primary feature\n",
    "user_primary_weight = 0.9  #user's chosen weight for the primary feature\n",
    "user_count = 7 #Number of recommended songs to be printed out in the display\n",
    "user_neighbors = 15  #Number of neighbors to be considered when recommending songs (carrying capacity of song \n",
    "#recommendations)\n",
    "\n",
    "recommended_songs = weightage_recommend(user_song_name, user_primary_feature, user_primary_weight, user_count, user_neighbors)\n",
    "print(recommended_songs)"
   ]
  },
  {
   "cell_type": "code",
   "execution_count": null,
   "id": "91a494cb",
   "metadata": {},
   "outputs": [],
   "source": []
  }
 ],
 "metadata": {
  "kernelspec": {
   "display_name": "Python 3 (ipykernel)",
   "language": "python",
   "name": "python3"
  },
  "language_info": {
   "codemirror_mode": {
    "name": "ipython",
    "version": 3
   },
   "file_extension": ".py",
   "mimetype": "text/x-python",
   "name": "python",
   "nbconvert_exporter": "python",
   "pygments_lexer": "ipython3",
   "version": "3.11.4"
  }
 },
 "nbformat": 4,
 "nbformat_minor": 5
}
